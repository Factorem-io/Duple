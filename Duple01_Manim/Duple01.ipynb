{
 "cells": [
  {
   "cell_type": "code",
   "execution_count": 1,
   "metadata": {},
   "outputs": [
    {
     "data": {
      "text/html": [
       "<pre style=\"white-space:pre;overflow-x:auto;line-height:normal;font-family:Menlo,'DejaVu Sans Mono',consolas,'Courier New',monospace\">Manim Community <span style=\"color: #008000; text-decoration-color: #008000\">v0.17.2</span>\n",
       "\n",
       "</pre>\n"
      ],
      "text/plain": [
       "Manim Community \u001b[32mv0.\u001b[0m\u001b[32m17.2\u001b[0m\n",
       "\n"
      ]
     },
     "metadata": {},
     "output_type": "display_data"
    }
   ],
   "source": [
    "from manim import *\n",
    "from manim_physics import *\n",
    "import numpy as np"
   ]
  },
  {
   "cell_type": "markdown",
   "metadata": {},
   "source": []
  },
  {
   "cell_type": "code",
   "execution_count": 100,
   "metadata": {},
   "outputs": [
    {
     "name": "stderr",
     "output_type": "stream",
     "text": [
      "                                                                                                             \r"
     ]
    },
    {
     "data": {
      "text/html": [
       "<video src=\"media\\jupyter\\Intro@2023-02-25@11-56-42.mp4\" controls autoplay loop style=\"max-width: 60%;\"  >\n",
       "      Your browser does not support the <code>video</code> element.\n",
       "    </video>"
      ],
      "text/plain": [
       "<IPython.core.display.Video object>"
      ]
     },
     "metadata": {},
     "output_type": "display_data"
    }
   ],
   "source": [
    "%%manim -qh --disable_caching -v WARNING Intro\n",
    "class Intro(Scene):\n",
    "    def construct(self):\n",
    "        self.camera.background_color = \"#828082\"\n",
    "        nice_black = \"#212121\"\n",
    "\n",
    "        variables = VGroup(\n",
    "            MathTex(\"D\",fill_color=nice_black).scale(1.5),\n",
    "            MathTex(\"u\",fill_color=nice_black).scale(1.5), \n",
    "            MathTex(\"p\",fill_color=nice_black).scale(1.5),\n",
    "            MathTex(\"l\",fill_color=nice_black).scale(1.5), \n",
    "            MathTex(\"e\",fill_color=nice_black).scale(1.5),\n",
    "            \n",
    "            ).arrange_submobjects().shift(UP)\n",
    "\n",
    "        eq1 = MathTex(\"Paul\",\"\\; \", \"Trap\",fill_color=nice_black).scale(2)\n",
    "\n",
    "        eq2 = MathTex(\n",
    "            \"{{Q}}\",\n",
    "            \"{{u}}\",\n",
    "            \"{{a}}\",\n",
    "            \"{{D}}\",\n",
    "            \"{{r}}\",\n",
    "            \"{{u}}\",\n",
    "            \"{{p}}\",\n",
    "            \"{{o}}\",\n",
    "            \"{{l}}\",\n",
    "            \"{{e}}\",\n",
    "            \"\\;\",\n",
    "            \"{{Ion Trap}}\",\n",
    "            fill_color=nice_black).scale(1.5)\n",
    "\n",
    "        eq3 = MathTex(\n",
    "            \"{{D}}\",\n",
    "            \"{{u}}\", \n",
    "            \"{{p}}\", \n",
    "            \"{{l}}\",\n",
    "            \"{{e}}\",\n",
    "            fill_color=nice_black).scale(1.5)\n",
    "        self.wait()\n",
    "        self.play(FadeIn(eq1))\n",
    "        self.wait(1)\n",
    "        self.play(ReplacementTransform(eq1, eq2))\n",
    "        self.wait()\n",
    "        self.play(FadeIn(variables))\n",
    "        self.wait()\n",
    "        self.play(TransformMatchingTex(Group(eq2, variables), eq3,path_func=utils.paths.clockwise_path()))\n",
    "        self.wait(2)\n"
   ]
  },
  {
   "cell_type": "code",
   "execution_count": 112,
   "metadata": {},
   "outputs": [
    {
     "name": "stderr",
     "output_type": "stream",
     "text": [
      "                                                                                                                               \r"
     ]
    },
    {
     "data": {
      "text/html": [
       "<video src=\"media\\jupyter\\Project@2023-02-19@22-47-50.mp4\" controls autoplay loop style=\"max-width: 60%;\"  >\n",
       "      Your browser does not support the <code>video</code> element.\n",
       "    </video>"
      ],
      "text/plain": [
       "<IPython.core.display.Video object>"
      ]
     },
     "metadata": {},
     "output_type": "display_data"
    }
   ],
   "source": [
    "%%manim -qh --disable_caching -v WARNING Project\n",
    "class Project(Scene):\n",
    "    def construct(self):\n",
    "\n",
    "        Pjt = Tex(\"Project\")\n",
    "\n",
    "        Pjt.generate_target()\n",
    "        Pjt.target.shift(3*UP).scale(1.5)\n",
    "\n",
    "        Con = Tex(\"Concept\")\n",
    "        Proto = Tex(\"Prototype\")\n",
    "        Prod = Tex(\"Production\")\n",
    "        arrow = Arrow(start= LEFT, end=RIGHT)\n",
    "        arrow2 = Arrow(start= LEFT, end=RIGHT)\n",
    "        blist = BulletedList(\"Task 1\", \"Task 2\", \"Task 3\", font_size=50)\n",
    "        blist2 = BulletedList(\"Task 1\", \"Task 2\", \"Task 3\", font_size=50)\n",
    "        blist3 = BulletedList(\"Task 1\", \"Task 2\", \"Task 3\", font_size=50)\n",
    "\n",
    "        gr = VGroup( \n",
    "            Con,\n",
    "            arrow,\n",
    "            Proto,\n",
    "            arrow2,\n",
    "            Prod,\n",
    "        ).arrange(RIGHT)\n",
    "\n",
    "        gr.generate_target()\n",
    "        gr.target.shift(2*UP).scale(1.125)\n",
    "        \n",
    "        framebox1 = SurroundingRectangle(Con,buff = .2)\n",
    "        framebox2 = SurroundingRectangle(Proto,buff = .2)\n",
    "        framebox3 = SurroundingRectangle(Prod,buff = .2)\n",
    "\n",
    "        self.play(Write(Pjt))\n",
    "        self.play(MoveToTarget(Pjt))\n",
    "\n",
    "        self.play(\n",
    "            Write(gr)\n",
    "        )\n",
    "        self.wait(.5)\n",
    "        self.play(Create(framebox1))\n",
    "        self.wait(.5)\n",
    "        self.play(ReplacementTransform(framebox1,framebox2))\n",
    "        self.wait(.5)\n",
    "        self.play(ReplacementTransform(framebox2,framebox3))\n",
    "        self.play(FadeOut(framebox3))\n",
    "        self.play(MoveToTarget(gr))\n",
    "        self.play(Create(blist))\n",
    "        self.play(blist.animate.shift(5*LEFT))\n",
    "        self.wait()\n",
    "        self.play(Create(blist3))\n",
    "        self.play(blist3.animate.shift(4*RIGHT))\n",
    "        self.wait()\n",
    "        self.play(Create(blist2))\n",
    "        self.play(blist2.animate.shift(.5*LEFT))\n",
    "        self.wait()\n",
    "        self.play(FadeOut(blist,blist2,blist3,Pjt,gr))\n",
    "        self.wait()\n",
    "        \n"
   ]
  },
  {
   "cell_type": "code",
   "execution_count": 113,
   "metadata": {},
   "outputs": [
    {
     "name": "stderr",
     "output_type": "stream",
     "text": [
      "                                                                                                       \r"
     ]
    },
    {
     "data": {
      "text/html": [
       "<video src=\"media\\jupyter\\Concept@2023-02-19@22-49-58.mp4\" controls autoplay loop style=\"max-width: 60%;\"  >\n",
       "      Your browser does not support the <code>video</code> element.\n",
       "    </video>"
      ],
      "text/plain": [
       "<IPython.core.display.Video object>"
      ]
     },
     "metadata": {},
     "output_type": "display_data"
    }
   ],
   "source": [
    "%%manim -qh --disable_caching -v WARNING Concept\n",
    "class Concept(Scene):\n",
    "    def construct(self):\n",
    "\n",
    "        Pjt = Tex(\"Concept Development\")\n",
    "\n",
    "        Pjt.generate_target()\n",
    "        Pjt.target.shift(UP).scale(2)\n",
    "\n",
    "        Con = Tex(\"\\emph{What does it do?}\")\n",
    "        Proto = Tex(\"\\emph{How do people interact with it?}\")\n",
    "\n",
    "\n",
    "        gr = VGroup( \n",
    "            Con,\n",
    "            Proto,\n",
    "        ).arrange(RIGHT)\n",
    "\n",
    "        \n",
    "        #framebox1 = SurroundingRectangle(Con,buff = .2)\n",
    "\n",
    "        self.play(Write(Pjt))\n",
    "        self.play(MoveToTarget(Pjt))\n",
    "\n",
    "        self.play(\n",
    "            Write(gr)\n",
    "        )\n",
    "        #self.play(Create(framebox1))\n",
    "        self.wait()\n",
    "        self.play(FadeOut(Pjt),FadeOut(gr))\n",
    "\n"
   ]
  },
  {
   "cell_type": "code",
   "execution_count": 114,
   "metadata": {},
   "outputs": [
    {
     "name": "stderr",
     "output_type": "stream",
     "text": [
      "                                                                                                   \r"
     ]
    },
    {
     "data": {
      "text/html": [
       "<video src=\"media\\jupyter\\Math@2023-02-19@23-00-57.mp4\" controls autoplay loop style=\"max-width: 60%;\"  >\n",
       "      Your browser does not support the <code>video</code> element.\n",
       "    </video>"
      ],
      "text/plain": [
       "<IPython.core.display.Video object>"
      ]
     },
     "metadata": {},
     "output_type": "display_data"
    }
   ],
   "source": [
    "%%manim -qh --disable_caching -v WARNING Math\n",
    "class Math(Scene):\n",
    "    def construct(self):\n",
    "\n",
    "        Pjt = Tex(\"Supporting Math\")\n",
    "\n",
    "        Pjt.generate_target()\n",
    "        Pjt.target.shift(UP).scale(2)\n",
    "\n",
    "        Con = Tex(\"\\emph{How does it work?}\")\n",
    "        Proto = Tex(\"\\emph{How do people interact with it?}\")\n",
    "\n",
    "\n",
    "        gr = VGroup( \n",
    "            Con\n",
    "        ).arrange(RIGHT)\n",
    "\n",
    "        \n",
    "        #framebox1 = SurroundingRectangle(Con,buff = .2)\n",
    "\n",
    "        self.play(Write(Pjt))\n",
    "        self.play(MoveToTarget(Pjt))\n",
    "\n",
    "        self.play(\n",
    "            Write(gr)\n",
    "        )\n",
    "        #self.play(Create(framebox1))\n",
    "        self.wait()\n",
    "        self.play(FadeOut(Pjt),FadeOut(gr))"
   ]
  },
  {
   "cell_type": "code",
   "execution_count": 119,
   "metadata": {},
   "outputs": [
    {
     "name": "stderr",
     "output_type": "stream",
     "text": [
      "                                                                                                         \r"
     ]
    },
    {
     "data": {
      "text/html": [
       "<video src=\"media\\jupyter\\StaticField@2023-02-19@23-10-20.mp4\" controls autoplay loop style=\"max-width: 60%;\"  >\n",
       "      Your browser does not support the <code>video</code> element.\n",
       "    </video>"
      ],
      "text/plain": [
       "<IPython.core.display.Video object>"
      ]
     },
     "metadata": {},
     "output_type": "display_data"
    }
   ],
   "source": [
    "%%manim -qh --disable_caching -v WARNING StaticField\n",
    "class StaticField(Scene):\n",
    "    def construct(self):\n",
    "\n",
    "        charge1 = Charge(-2, 2*(LEFT + DOWN))\n",
    "        charge2 = Charge(2, 2*(RIGHT + DOWN))\n",
    "        charge3 = Charge(-2, 2*(RIGHT + UP))\n",
    "        charge4 = Charge(2, 2*(LEFT + UP))\n",
    "\n",
    "        d1 = Circle(.2).set_color(WHITE)\n",
    "        l1 = Line(1.3*(LEFT+UP),0.001*(RIGHT+DOWN))\n",
    "\n",
    "        d1.generate_target()\n",
    "        d1.target.set_fill(color=WHITE)\n",
    "        d1.target.shift(2*(LEFT + UP))\n",
    "\n",
    "        d2 = Dot().set_color(WHITE)\n",
    "        l2 = Line(0.001*(RIGHT+DOWN),2*(RIGHT+UP))\n",
    "\n",
    "        d3=Dot(1.3*(LEFT+UP)).set_color(WHITE)\n",
    "\n",
    "        \n",
    "        field = ElectricField(charge1, charge2, charge3, charge4)\n",
    "\n",
    "        self.play(FadeIn(charge1, charge2, charge3, charge4))\n",
    "        self.wait(6)\n",
    "        self.play(FadeIn(field))\n",
    "        self.wait(3)\n",
    "\n",
    "        self.play(FadeIn(d1))\n",
    "        self.play(FocusOn(d1))\n",
    "        self.wait(2)\n",
    "        self.play(MoveToTarget(d1),ReplacementTransform(d1,d3))\n",
    "        self.wait(2)\n",
    "        self.play(MoveAlongPath(d3, l1, rate_func=rate_functions.ease_in_out_sine))\n",
    "        self.wait(2)\n",
    "        self.play(FadeTransform(d3,d2))\n",
    "        self.wait()\n",
    "        self.play(MoveAlongPath(d2,l2, rate_func=rate_functions.ease_in_out_sine))\n",
    "        self.wait(8)\n",
    "\n",
    "        self.play(Indicate(field), run_time = .5)\n",
    "        self.wait(2)\n",
    "\n",
    "\n"
   ]
  },
  {
   "cell_type": "code",
   "execution_count": 120,
   "metadata": {},
   "outputs": [
    {
     "name": "stderr",
     "output_type": "stream",
     "text": [
      "                                                                                 \r"
     ]
    },
    {
     "data": {
      "text/html": [
       "<video src=\"media\\jupyter\\PositiveField@2023-02-19@23-16-14.mp4\" controls autoplay loop style=\"max-width: 60%;\"  >\n",
       "      Your browser does not support the <code>video</code> element.\n",
       "    </video>"
      ],
      "text/plain": [
       "<IPython.core.display.Video object>"
      ]
     },
     "metadata": {},
     "output_type": "display_data"
    }
   ],
   "source": [
    "%%manim -qh --disable_caching -v WARNING PositiveField\n",
    "class PositiveField(Scene):\n",
    "    def construct(self):\n",
    "        charge1 = Charge(2, 2*(LEFT + DOWN))\n",
    "        charge2 = Charge(2, 2*(RIGHT + DOWN))\n",
    "        charge3 = Charge(2, 2*(RIGHT + UP))\n",
    "        charge4 = Charge(2, 2*(LEFT + UP))\n",
    "\n",
    "        field = ElectricField(charge1, charge2, charge3, charge4)\n",
    "        self.play(FadeIn(charge1, charge2, charge3, charge4),FadeIn(field))\n",
    "        self.wait(2)\n",
    "\n",
    "\n"
   ]
  },
  {
   "cell_type": "code",
   "execution_count": 121,
   "metadata": {},
   "outputs": [
    {
     "name": "stderr",
     "output_type": "stream",
     "text": [
      "                                                                                        \r"
     ]
    },
    {
     "data": {
      "text/html": [
       "<video src=\"media\\jupyter\\QuadropoleField@2023-02-19@23-42-06.mp4\" controls autoplay loop style=\"max-width: 60%;\"  >\n",
       "      Your browser does not support the <code>video</code> element.\n",
       "    </video>"
      ],
      "text/plain": [
       "<IPython.core.display.Video object>"
      ]
     },
     "metadata": {},
     "output_type": "display_data"
    }
   ],
   "source": [
    "%%manim -qh --disable_caching -v WARNING QuadropoleField\n",
    "class QuadropoleField(Scene):\n",
    "    def construct(self):\n",
    "        charge1 = Charge(-2, 2*(LEFT + DOWN))\n",
    "        charge2 = Charge(2, 2*(RIGHT + DOWN))\n",
    "        charge3 = Charge(-2, 2*(RIGHT + UP))\n",
    "        charge4 = Charge(2, 2*(LEFT + UP))\n",
    "\n",
    "        charge5 = Charge(2, 2*(LEFT + DOWN))\n",
    "        charge6 = Charge(-2, 2*(RIGHT + DOWN))\n",
    "        charge7 = Charge(2, 2*(RIGHT + UP))\n",
    "        charge8 = Charge(-2, 2*(LEFT + UP))\n",
    "\n",
    "\n",
    "        field = ElectricField(charge1, charge2, charge3, charge4)\n",
    "        field2 = ElectricField(charge5, charge6, charge7, charge8)\n",
    "        self.add(charge1, charge2, charge3, charge4)\n",
    "        self.add(field)\n",
    "        self.wait(.5)\n",
    "        self.play(\n",
    "            FadeTransform(field,field2),\n",
    "            FadeTransform(charge1,charge5),\n",
    "            FadeTransform(charge2,charge6),\n",
    "            FadeTransform(charge3,charge7),\n",
    "            FadeTransform(charge4,charge8),\n",
    "            run_time = .5\n",
    "            )\n",
    "\n",
    "        self.wait(.5)\n",
    "\n",
    "        self.play(\n",
    "            FadeTransform(field2,field),\n",
    "            FadeTransform(charge5,charge1),\n",
    "            FadeTransform(charge6,charge2),\n",
    "            FadeTransform(charge7,charge3),\n",
    "            FadeTransform(charge8,charge4),\n",
    "            run_time = .5\n",
    "            )\n",
    "\n",
    "\n"
   ]
  },
  {
   "cell_type": "code",
   "execution_count": 123,
   "metadata": {},
   "outputs": [
    {
     "name": "stderr",
     "output_type": "stream",
     "text": [
      "                                                                                  \r"
     ]
    },
    {
     "data": {
      "text/html": [
       "<video src=\"media\\jupyter\\FlipField@2023-02-19@23-48-25.mp4\" controls autoplay loop style=\"max-width: 60%;\"  >\n",
       "      Your browser does not support the <code>video</code> element.\n",
       "    </video>"
      ],
      "text/plain": [
       "<IPython.core.display.Video object>"
      ]
     },
     "metadata": {},
     "output_type": "display_data"
    }
   ],
   "source": [
    "%%manim -qh --disable_caching -v WARNING FlipField\n",
    "class FlipField(Scene):\n",
    "    def construct(self):\n",
    "        charge1 = Charge(-2, 2*(LEFT + DOWN))\n",
    "        charge2 = Charge(2, 2*(RIGHT + DOWN))\n",
    "        charge3 = Charge(-2, 2*(RIGHT + UP))\n",
    "        charge4 = Charge(2, 2*(LEFT + UP))\n",
    "\n",
    "        charge5 = Charge(2, 2*(LEFT + DOWN))\n",
    "        charge6 = Charge(-2, 2*(RIGHT + DOWN))\n",
    "        charge7 = Charge(2, 2*(RIGHT + UP))\n",
    "        charge8 = Charge(-2, 2*(LEFT + UP))\n",
    "\n",
    "\n",
    "        field = ElectricField(charge1, charge2, charge3, charge4)\n",
    "        field2 = ElectricField(charge5, charge6, charge7, charge8)\n",
    "        #self.add(charge1, charge2, charge3, charge4)\n",
    "        self.add(field)\n",
    "        self.wait(.5)\n",
    "        self.play(\n",
    "            FadeTransform(field,field2),\n",
    "            #FadeTransform(charge1,charge5),\n",
    "            #FadeTransform(charge2,charge6),\n",
    "            #FadeTransform(charge3,charge7),\n",
    "            #FadeTransform(charge4,charge8),\n",
    "            run_time = .5\n",
    "            )\n",
    "\n",
    "        self.wait(.5)\n",
    "\n",
    "        self.play(\n",
    "            FadeTransform(field2,field),\n",
    "            #FadeTransform(charge5,charge1),\n",
    "            #FadeTransform(charge6,charge2),\n",
    "            #FadeTransform(charge7,charge3),\n",
    "            #FadeTransform(charge8,charge4),\n",
    "            run_time = .5\n",
    "            )"
   ]
  },
  {
   "cell_type": "code",
   "execution_count": 122,
   "metadata": {},
   "outputs": [
    {
     "name": "stderr",
     "output_type": "stream",
     "text": [
      "                                                                            \r"
     ]
    },
    {
     "data": {
      "text/html": [
       "<video src=\"media\\jupyter\\FieldOnly@2023-02-19@23-44-07.mp4\" controls autoplay loop style=\"max-width: 60%;\"  >\n",
       "      Your browser does not support the <code>video</code> element.\n",
       "    </video>"
      ],
      "text/plain": [
       "<IPython.core.display.Video object>"
      ]
     },
     "metadata": {},
     "output_type": "display_data"
    }
   ],
   "source": [
    "%%manim -qh --disable_caching -v WARNING FieldOnly\n",
    "class FieldOnly(Scene):\n",
    "    def construct(self):\n",
    "        charge1 = Charge(-2, 2*(LEFT + DOWN))\n",
    "        charge2 = Charge(2, 2*(RIGHT + DOWN))\n",
    "        charge3 = Charge(-2, 2*(RIGHT + UP))\n",
    "        charge4 = Charge(2, 2*(LEFT + UP))\n",
    "\n",
    "        field = ElectricField(charge1, charge2, charge3, charge4)\n",
    "        self.add(charge1, charge2, charge3, charge4)\n",
    "        self.add(field)\n",
    "        self.wait()\n",
    "        self.play(FadeOut(charge1,charge2, charge3, charge4))\n",
    "        self.wait(3)\n",
    "\n"
   ]
  },
  {
   "cell_type": "code",
   "execution_count": 139,
   "metadata": {},
   "outputs": [
    {
     "name": "stderr",
     "output_type": "stream",
     "text": [
      "                                                                                                  \r"
     ]
    },
    {
     "data": {
      "text/html": [
       "<video src=\"media\\jupyter\\ThreeDee@2023-02-20@11-03-55.mp4\" controls autoplay loop style=\"max-width: 60%;\"  >\n",
       "      Your browser does not support the <code>video</code> element.\n",
       "    </video>"
      ],
      "text/plain": [
       "<IPython.core.display.Video object>"
      ]
     },
     "metadata": {},
     "output_type": "display_data"
    }
   ],
   "source": [
    "%%manim -qh --disable_caching -v WARNING ThreeDee\n",
    "class ThreeDee(ThreeDScene):\n",
    "    def construct(self):\n",
    "        axes = ThreeDAxes()\n",
    "\n",
    "        labz = axes.get_z_axis_label(Tex(\"$Z$\"))\n",
    "        labx = axes.get_x_axis_label(Tex(\"$Y$\"))\n",
    "        laby = axes.get_y_axis_label(Tex(\"$X$\"))\n",
    "\n",
    "        charge1 = Charge(-1, 2*(LEFT))\n",
    "        charge2 = Charge(1, 2*(DOWN))\n",
    "        charge3 = Charge(-1, 2*(RIGHT))\n",
    "        charge4 = Charge(1, 2*(UP))\n",
    "\n",
    "        charge5 = Charge(1, 2*(LEFT ))\n",
    "        charge6 = Charge(-1, 2*(DOWN))\n",
    "        charge7 = Charge(1, 2*(RIGHT))\n",
    "        charge8 = Charge(-1, 2*(UP))\n",
    "\n",
    "        field = ElectricField(charge1, charge2, charge3, charge4)\n",
    "        field2 = ElectricField(charge5, charge6, charge7, charge8)\n",
    "\n",
    "        self.set_camera_orientation(phi=0 * DEGREES, theta=225 * DEGREES)\n",
    "        self.add(field)\n",
    "        self.wait()\n",
    "        self.move_camera(phi=60 * DEGREES, theta=315 * DEGREES)\n",
    "        self.wait(1)\n",
    "        self.play(Create(axes))\n",
    "        self.play(Create(labx))\n",
    "        self.play(Create(laby)) \n",
    "        self.play(Create(labz))\n",
    "        self.wait(1)\n",
    "        self.move_camera(phi=90 * DEGREES, theta=360 * DEGREES)\n",
    "        self.wait(1)"
   ]
  },
  {
   "cell_type": "code",
   "execution_count": 145,
   "metadata": {},
   "outputs": [
    {
     "name": "stderr",
     "output_type": "stream",
     "text": [
      "                                                                                                                \r"
     ]
    },
    {
     "data": {
      "text/html": [
       "<video src=\"media\\jupyter\\Xaxis@2023-02-20@11-13-29.mp4\" controls autoplay loop style=\"max-width: 60%;\"  >\n",
       "      Your browser does not support the <code>video</code> element.\n",
       "    </video>"
      ],
      "text/plain": [
       "<IPython.core.display.Video object>"
      ]
     },
     "metadata": {},
     "output_type": "display_data"
    }
   ],
   "source": [
    "%%manim -qh --disable_caching -v WARNING Xaxis\n",
    "\n",
    "class Xaxis(Scene):\n",
    "    def construct(self):\n",
    "        ax = Axes(\n",
    "            x_range=[-5, 5], y_range=[0, 50, 5], axis_config={\"include_tip\": False}\n",
    "        )\n",
    "        label1 = ax.get_axis_labels(x_label=\"x\", y_label=\"f(x) = z = 3.25\")\n",
    "\n",
    "        label2 = ax.get_axis_labels(x_label=\"x\", y_label=\"f(x) = z = -x\")\n",
    "\n",
    "        label = ax.get_axis_labels(x_label=\"x\", y_label=\"f(x) = z = x^2\")\n",
    "\n",
    "        t = ValueTracker(-4)\n",
    "\n",
    "        def func1(x):\n",
    "            return  ((x) * 0) + 16.5\n",
    "        graph1 = ax.plot(func1, color=MAROON)\n",
    "\n",
    "        def func2(x):\n",
    "            return  (x) * -5 \n",
    "        graph2 = ax.plot(func2, color=MAROON)\n",
    "\n",
    "        def func(x):\n",
    "            return  (x) ** 2\n",
    "        graph = ax.plot(func, color=MAROON)\n",
    "\n",
    "        l1 = Line([-4,-1,1],[0,-3,1])\n",
    "\n",
    "        dot1 = Dot([-4,-1,0])\n",
    "        dot2 = Dot([-4,-1,0])\n",
    "\n",
    "        initial_point = [ax.coords_to_point(t.get_value(), func(t.get_value()))]\n",
    "        dot = Dot(point=initial_point)\n",
    "\n",
    "        dot.add_updater(lambda x: x.move_to(ax.c2p(t.get_value(), func(t.get_value()))))\n",
    "        x_space = np.linspace(*ax.x_range[:2],200)\n",
    "        minimum_index = func(x_space).argmin()\n",
    "\n",
    "\n",
    "        ay = Axes(\n",
    "            x_range=[-5, 5], y_range=[-50, 0, 5], axis_config={\"include_tip\": False}\n",
    "        )\n",
    "        labely = ay.get_axis_labels(x_label=\"y\", y_label=\"f(y) = z = -y^2\")\n",
    "\n",
    "        v = ValueTracker(0)\n",
    "\n",
    "        def funcy(x):\n",
    "            return -(x) ** 2\n",
    "        graphy = ay.plot(funcy, color=MAROON)\n",
    "\n",
    "        initial_pointy = [ay.coords_to_point(v.get_value(), funcy(v.get_value()))]\n",
    "        doty = Dot(point=initial_pointy)\n",
    "\n",
    "        doty.add_updater(lambda x: x.move_to(ay.c2p(v.get_value(), funcy(v.get_value()))))\n",
    "        y_space = np.linspace(*ay.x_range[2:],5)\n",
    "        minimum_indexy = funcy(y_space).argmin()\n",
    "\n",
    "        self.play(Create(ax),run_time = 2)\n",
    "        self.play(Create(label1),run_time=2)\n",
    "        self.play(Create(graph1))\n",
    "        self.play(Create(dot1))\n",
    "        self.wait()\n",
    "\n",
    "        self.play(ReplacementTransform(label1,label2))\n",
    "        self.play(ReplacementTransform(graph1,graph2),run_time = 3)\n",
    "        self.play(FadeTransform(dot1,dot2),run_time = 0.1)\n",
    "        self.play(MoveAlongPath(dot2,l1), rate_func=rate_functions.ease_in_out_sine,run_time=2)\n",
    "        self.wait()\n",
    "\n",
    "        self.play(ReplacementTransform(label2,label))\n",
    "        self.play(ReplacementTransform(graph2,graph),run_time = 3)\n",
    "        self.play(ReplacementTransform(dot2,dot),run_time = 2)\n",
    "        self.play(t.animate.set_value(x_space[minimum_index]),run_time=3)\n",
    "        self.wait()\n",
    "\n",
    "        self.play(FadeOut(graph))\n",
    "        self.play(\n",
    "            ReplacementTransform(ax,ay,run_time = 1.5),\n",
    "            ReplacementTransform(dot,doty,run_time=1.5),\n",
    "            ReplacementTransform(label,labely)\n",
    "            )\n",
    "\n",
    "        self.play(Create(graphy))\n",
    "        self.wait()\n",
    "        #self.play(Indicate(labely))\n",
    "        self.play(v.animate.set_value(y_space[minimum_indexy]))\n",
    "        self.wait()\n",
    "\n",
    "        self.play(FadeOut(ay,labely,doty,graphy),run_time = 1)\n",
    "\n",
    "\n",
    "\n"
   ]
  },
  {
   "cell_type": "code",
   "execution_count": 2,
   "metadata": {},
   "outputs": [
    {
     "name": "stderr",
     "output_type": "stream",
     "text": [
      "                                                                                                                  \r"
     ]
    },
    {
     "data": {
      "text/html": [
       "<video src=\"media\\jupyter\\Rolling@2023-02-24@23-42-24.mp4\" controls autoplay loop style=\"max-width: 60%;\"  >\n",
       "      Your browser does not support the <code>video</code> element.\n",
       "    </video>"
      ],
      "text/plain": [
       "<IPython.core.display.Video object>"
      ]
     },
     "metadata": {},
     "output_type": "display_data"
    }
   ],
   "source": [
    "%%manim -ql --disable_caching -v WARNING Rolling\n",
    "class Rolling(ThreeDScene):\n",
    "    def construct(self):\n",
    "        axes = ThreeDAxes()\n",
    "\n",
    "        labz = axes.get_z_axis_label(Tex(\"$Z$-Axis\"))\n",
    "        labx = axes.get_x_axis_label(Tex(\"$Y$-Axis\"))\n",
    "        laby = axes.get_y_axis_label(Tex(\"$X$-Axis\"))\n",
    "\n",
    "        curve2 = ParametricFunction(\n",
    "            lambda u: np.array([\n",
    "                u,\n",
    "                0,\n",
    "                (-u**2) * 0.1\n",
    "            ]), color=MAROON, t_range = np.array([-5,5, 5])\n",
    "        ).set_shade_in_3d(False)\n",
    "\n",
    "        curve1 = ParametricFunction(\n",
    "            lambda u: np.array([\n",
    "                0,\n",
    "                u,\n",
    "                (u**2) * 0.1\n",
    "            ]), color=MAROON, t_range = np.array([-5,5, 1])\n",
    "        ).set_shade_in_3d(False)\n",
    "\n",
    "        resolution_fa = 10\n",
    "\n",
    "        def param_gauss(u, v):\n",
    "            x = u\n",
    "            y = v\n",
    "            z = -x**2+y**2\n",
    "            return np.array([x, y, z])\n",
    "\n",
    "        gauss_plane = Surface(\n",
    "            param_gauss,\n",
    "            resolution=(resolution_fa, resolution_fa),\n",
    "            v_range=[-.5, +.5],\n",
    "            u_range=[-.5, +.5]\n",
    "        )\n",
    "\n",
    "        gauss_plane.scale(10, about_point=ORIGIN)\n",
    "        gauss_plane.set_style(fill_opacity=.25,stroke_color=WHITE)\n",
    "        gauss_plane.set_fill_by_checkerboard(BLUE, WHITE, opacity=0.25)\n",
    "        gauss_plane.save_state()\n",
    "\n",
    "        def param_gauss2(u, v):\n",
    "            x = u\n",
    "            y = v\n",
    "            z = x**2-y**2\n",
    "            return np.array([x, y, z])\n",
    "\n",
    "        gauss_plane2 = Surface(\n",
    "            param_gauss2,\n",
    "            resolution=(resolution_fa, resolution_fa),\n",
    "            v_range=[-.5, +.5],\n",
    "            u_range=[-.5, +.5]\n",
    "        )\n",
    "\n",
    "\n",
    "        gauss_plane2.scale(10, about_point=ORIGIN)\n",
    "        gauss_plane2.set_style(fill_opacity=.25,stroke_color=WHITE)\n",
    "        gauss_plane2.set_fill_by_checkerboard(BLUE, WHITE, opacity=0.25)\n",
    "\n",
    "\n",
    "\n",
    "\n",
    "        charge1 = Charge(-2, 4*(LEFT))\n",
    "        charge2 = Charge(2, 4*(DOWN))\n",
    "        charge3 = Charge(-2, 4*(RIGHT))\n",
    "        charge4 = Charge(2, 4*(UP))\n",
    "\n",
    "        charge5 = Charge(2, 4*(LEFT ))\n",
    "        charge6 = Charge(-2, 4*(DOWN))\n",
    "        charge7 = Charge(2, 4*(RIGHT))\n",
    "        charge8 = Charge(-2, 4*(UP))\n",
    "\n",
    "        field = ElectricField(charge1, charge2, charge3, charge4)\n",
    "        field2 = ElectricField(charge5, charge6, charge7, charge8)\n",
    "\n",
    "        self.set_camera_orientation(phi=60 * DEGREES, theta=-85 * DEGREES)\n",
    "        self.begin_ambient_camera_rotation(rate=0.15)\n",
    "        self.add(field)\n",
    "        self.play(Create(axes), run_time = 1)\n",
    "        self.play(Create(labx), run_time = .2)\n",
    "        self.play(Create(laby), run_time = .2)\n",
    "        self.play(Create(labz), run_time = .2)\n",
    "\n",
    "        self.play(Create(curve1))\n",
    "        self.play(Create(curve2))\n",
    "        self.wait(2)\n",
    "\n",
    "        self.play(DrawBorderThenFill(gauss_plane),FadeOut(labx,laby,labz))\n",
    "\n",
    "\n",
    "        self.wait(8)\n",
    "\n",
    "        self.move_camera(phi=60 * DEGREES, theta=-45 * DEGREES)\n",
    "        self.stop_ambient_camera_rotation()\n",
    "        self.wait(8)\n",
    "        self.play(FadeIn(charge1, charge2, charge3, charge4),FadeIn(field))\n",
    "\n",
    "        self.wait(2)\n",
    "        self.play(\n",
    "            FadeTransform(field,field2), \n",
    "            FadeTransform(charge1,charge5),\n",
    "            FadeTransform(charge2,charge6),\n",
    "            FadeTransform(charge3,charge7),\n",
    "            FadeTransform(charge4,charge8),\n",
    "            ReplacementTransform(gauss_plane,gauss_plane2,rate_functions=linear),\n",
    "            run_time = 1\n",
    "            )\n",
    "\n",
    "        self.wait(1)\n",
    "\n",
    "\n"
   ]
  },
  {
   "cell_type": "code",
   "execution_count": 151,
   "metadata": {},
   "outputs": [
    {
     "name": "stderr",
     "output_type": "stream",
     "text": [
      "                                                                                                                                                                                          \r"
     ]
    },
    {
     "data": {
      "text/html": [
       "<video src=\"media\\jupyter\\Equations@2023-02-20@12-05-12.mp4\" controls autoplay loop style=\"max-width: 60%;\"  >\n",
       "      Your browser does not support the <code>video</code> element.\n",
       "    </video>"
      ],
      "text/plain": [
       "<IPython.core.display.Video object>"
      ]
     },
     "metadata": {},
     "output_type": "display_data"
    }
   ],
   "source": [
    "%%manim -qh --disable_caching -v WARNING Equations\n",
    "class Equations(ThreeDScene):\n",
    "    def construct(self):\n",
    "\n",
    "        PtrapX = MathTex(\"m\\\\frac{d^2}{dt^2}x=\",\n",
    "            \"-\\\\frac{2eU_{RF}}{r_o^2}cos(\\Omega t)x\",\n",
    "            font_size=48\n",
    "        )\n",
    "        PtrapY = MathTex(\"m\\\\frac{d^2}{dt^2}y=\",\n",
    "            \"-\\\\frac{2eU_{RF}}{r_o^2}cos(\\Omega t)y\",\n",
    "            font_size=48\n",
    "        )\n",
    "        Ptrap_Text = Text(\"Paul Trap Math\")\n",
    "        Ptrap = VGroup(Ptrap_Text, PtrapX, PtrapY).arrange(DOWN)\n",
    "\n",
    "        DupleX = MathTex(\"m\\\\frac{\\delta^2}{\\delta t^2}x=\",\n",
    "            \"\\\\frac{2mgh_{o}}{r_o^2} [-x\\cos(2\\Omega t)-y\\sin(2\\Omega t)]\",\n",
    "            font_size=48\n",
    "        )\n",
    "        DupleY = MathTex(\"m\\\\frac{\\delta^2}{\\delta t^2}y=\",\n",
    "            \"\\\\frac{2mgh_{o}}{r_o^2} [y\\cos(2\\Omega t)-x\\sin(2\\Omega t)]\",\n",
    "            font_size=48\n",
    "        )\n",
    "        Duple_Text = Text(\"Our Model's Math\")\n",
    "        Duple = VGroup(Duple_Text, DupleX, DupleY).arrange(DOWN)\n",
    "\n",
    "\n",
    "        self.play(Write(DupleX),Write(DupleY),Write(Duple_Text),run_time=2)\n",
    "        self.wait(2)\n",
    "        self.play(\n",
    "            TransformMatchingShapes(DupleX,PtrapX),\n",
    "            TransformMatchingShapes(DupleY,PtrapY),\n",
    "            TransformMatchingShapes(Duple_Text,Ptrap_Text),run_time=2)\n",
    "        self.wait(2)\n",
    "       \n",
    "\n",
    "        "
   ]
  },
  {
   "cell_type": "code",
   "execution_count": 157,
   "metadata": {},
   "outputs": [
    {
     "name": "stderr",
     "output_type": "stream",
     "text": [
      "                                                                                                                      \r"
     ]
    },
    {
     "data": {
      "text/html": [
       "<video src=\"media\\jupyter\\ThreeDSurfacePlotFlap@2023-02-20@12-13-52.mp4\" controls autoplay loop style=\"max-width: 60%;\"  >\n",
       "      Your browser does not support the <code>video</code> element.\n",
       "    </video>"
      ],
      "text/plain": [
       "<IPython.core.display.Video object>"
      ]
     },
     "metadata": {},
     "output_type": "display_data"
    }
   ],
   "source": [
    "%%manim -qh --disable_caching -v WARNING ThreeDSurfacePlotFlap\n",
    "\n",
    "class ThreeDSurfacePlotFlap(ThreeDScene):\n",
    "    def construct(self):\n",
    "        resolution_fa = 10\n",
    "\n",
    "        curve2 = ParametricFunction(\n",
    "            lambda u: np.array([\n",
    "                0,\n",
    "                u,\n",
    "                (-u**2) * 0.1\n",
    "            ]), color=WHITE, t_range = np.array([-5,5, 5])\n",
    "        ).set_shade_in_3d(False)\n",
    "\n",
    "        curve1 = ParametricFunction(\n",
    "            lambda u: np.array([\n",
    "                0,\n",
    "                u,\n",
    "                (u**2) * 0.1\n",
    "            ]), color=WHITE, t_range = np.array([-5,5, 1])\n",
    "        ).set_shade_in_3d(False)\n",
    "\n",
    "        curve3 = ParametricFunction(\n",
    "            lambda u: np.array([\n",
    "                0,\n",
    "                u,\n",
    "                (-u**2) * 0.1\n",
    "            ]), color=WHITE, t_range = np.array([-5,5, 1])\n",
    "        ).set_shade_in_3d(False)\n",
    "\n",
    "        def param_gauss(u, v):\n",
    "            x = u\n",
    "            y = v\n",
    "            z = x**2-y**2\n",
    "            return np.array([x, y, z])\n",
    "\n",
    "        gauss_plane = Surface(\n",
    "            param_gauss,\n",
    "            resolution=(resolution_fa, resolution_fa),\n",
    "            v_range=[-.5, +.5],\n",
    "            u_range=[-.5, +.5]\n",
    "        )\n",
    "\n",
    "        gauss_plane.scale(10, about_point=ORIGIN)\n",
    "        gauss_plane.set_style(fill_opacity=1,stroke_color=GREEN)\n",
    "        gauss_plane.set_fill_by_checkerboard(BLUE, WHITE, opacity=0.25)\n",
    "\n",
    "        def param_gaussD(u, v):\n",
    "            x = u\n",
    "            y = v\n",
    "            z = -x**2+y**2\n",
    "            return np.array([x, y, z])\n",
    "\n",
    "        gauss_planeD = Surface(\n",
    "            param_gaussD,\n",
    "            resolution=(resolution_fa, resolution_fa),\n",
    "            v_range=[-.5, +.5],\n",
    "            u_range=[-.5, +.5]\n",
    "        )\n",
    "\n",
    "\n",
    "        gauss_planeD.scale(10, about_point=ORIGIN)\n",
    "        gauss_planeD.set_style(fill_opacity=1,stroke_color=GREEN)\n",
    "        gauss_planeD.set_fill_by_checkerboard(BLUE, WHITE, opacity=0.25)\n",
    "\n",
    "        def param_gaussU(u, v):\n",
    "            x = u\n",
    "            y = v\n",
    "            z = x**2-y**2\n",
    "            return np.array([x, y, z])\n",
    "\n",
    "        gauss_planeU = Surface(\n",
    "            param_gaussU,\n",
    "            resolution=(resolution_fa, resolution_fa),\n",
    "            v_range=[-.5, +.5],\n",
    "            u_range=[-.5, +.5]\n",
    "        )\n",
    "\n",
    "        gauss_planeU.scale(10, about_point=ORIGIN)\n",
    "        gauss_planeU.set_style(fill_opacity=1,stroke_color=GREEN)\n",
    "        gauss_planeU.set_fill_by_checkerboard(BLUE, WHITE, opacity=0.25)\n",
    "\n",
    "        def param_gauss4(u, v):\n",
    "            x = u\n",
    "            y = v\n",
    "            z = x**2-y**2\n",
    "            return np.array([x, y, z])\n",
    "\n",
    "        gauss_plane4 = Surface(\n",
    "            param_gauss4,\n",
    "            resolution=(resolution_fa, resolution_fa),\n",
    "            v_range=[-.5, +.5],\n",
    "            u_range=[-.5, +.5]\n",
    "        )\n",
    "\n",
    "        gauss_plane4.scale(10, about_point=ORIGIN)\n",
    "        gauss_plane4.set_style(fill_opacity=1,stroke_color=WHITE)\n",
    "        gauss_plane4.set_fill_by_checkerboard(BLUE, WHITE, opacity=0.25)\n",
    "\n",
    "        Plane = Polygon([0,6,3],[0,6,-3],[0,0,-3],[0,0,3],color=RED)\n",
    "        axes = ThreeDAxes()\n",
    "\n",
    "        self.add(axes,curve2)\n",
    "        self.set_camera_orientation(phi=60 * DEGREES, theta=-45 * DEGREES)\n",
    "\n",
    "        self.play(\n",
    "            #Rotating(gauss_plane4,radians=PI/2,run_time=2,rate_func= linear),\n",
    "            ReplacementTransform(gauss_plane,gauss_planeD,rate_functions=linear,run_time=2),\n",
    "            ReplacementTransform(curve2,curve1,rate_functions=wiggle,run_time=2)\n",
    "            )\n",
    "        self.play(\n",
    "            #Rotating(gauss_plane4,radians=PI/2,run_time=2,rate_func= linear),\n",
    "            ReplacementTransform(gauss_planeD,gauss_planeU,rate_functions=linear,run_time=2),\n",
    "            ReplacementTransform(curve1,curve3,rate_function=linear,run_time=2)\n",
    "            )\n"
   ]
  },
  {
   "cell_type": "code",
   "execution_count": 158,
   "metadata": {},
   "outputs": [
    {
     "name": "stderr",
     "output_type": "stream",
     "text": [
      "                                                                                                         \r"
     ]
    },
    {
     "data": {
      "text/html": [
       "<video src=\"media\\jupyter\\ThreeDSurfacePlotCurve@2023-02-20@12-15-28.mp4\" controls autoplay loop style=\"max-width: 60%;\"  >\n",
       "      Your browser does not support the <code>video</code> element.\n",
       "    </video>"
      ],
      "text/plain": [
       "<IPython.core.display.Video object>"
      ]
     },
     "metadata": {},
     "output_type": "display_data"
    }
   ],
   "source": [
    "%%manim -qh --disable_caching -v WARNING ThreeDSurfacePlotCurve\n",
    "\n",
    "class ThreeDSurfacePlotCurve(ThreeDScene):\n",
    "    def construct(self):\n",
    "        resolution_fa = 10\n",
    "\n",
    "        curve2 = ParametricFunction(\n",
    "            lambda u: np.array([\n",
    "                0,\n",
    "                u,\n",
    "                (-u**2) * 0.1\n",
    "            ]), color=WHITE, t_range = np.array([-5,5, 5])\n",
    "        ).set_shade_in_3d(False)\n",
    "\n",
    "        curve1 = ParametricFunction(\n",
    "            lambda u: np.array([\n",
    "                0,\n",
    "                u,\n",
    "                (u**2) * 0.1\n",
    "            ]), color=WHITE, t_range = np.array([-5,5, 1])\n",
    "        ).set_shade_in_3d(False)\n",
    "\n",
    "        curve3 = ParametricFunction(\n",
    "            lambda u: np.array([\n",
    "                0,\n",
    "                u,\n",
    "                (-u**2) * 0.1\n",
    "            ]), color=WHITE, t_range = np.array([-5,5, 1])\n",
    "        ).set_shade_in_3d(False)\n",
    "\n",
    "        def param_gauss(u, v):\n",
    "            x = u\n",
    "            y = v\n",
    "            z = x**2-y**2\n",
    "            return np.array([x, y, z])\n",
    "\n",
    "        gauss_plane = Surface(\n",
    "            param_gauss,\n",
    "            resolution=(resolution_fa, resolution_fa),\n",
    "            v_range=[-.5, +.5],\n",
    "            u_range=[-.5, +.5]\n",
    "        )\n",
    "\n",
    "        gauss_plane.scale(10, about_point=ORIGIN)\n",
    "        gauss_plane.set_style(fill_opacity=1,stroke_color=GREEN)\n",
    "        gauss_plane.set_fill_by_checkerboard(BLUE, WHITE, opacity=0.25)\n",
    "\n",
    "        def param_gaussD(u, v):\n",
    "            x = u\n",
    "            y = v\n",
    "            z = -x**2+y**2\n",
    "            return np.array([x, y, z])\n",
    "\n",
    "        gauss_planeD = Surface(\n",
    "            param_gaussD,\n",
    "            resolution=(resolution_fa, resolution_fa),\n",
    "            v_range=[-.5, +.5],\n",
    "            u_range=[-.5, +.5]\n",
    "        )\n",
    "\n",
    "\n",
    "        gauss_planeD.scale(10, about_point=ORIGIN)\n",
    "        gauss_planeD.set_style(fill_opacity=1,stroke_color=GREEN)\n",
    "        gauss_planeD.set_fill_by_checkerboard(BLUE, WHITE, opacity=0.25)\n",
    "\n",
    "        def param_gaussU(u, v):\n",
    "            x = u\n",
    "            y = v\n",
    "            z = x**2-y**2\n",
    "            return np.array([x, y, z])\n",
    "\n",
    "        gauss_planeU = Surface(\n",
    "            param_gaussU,\n",
    "            resolution=(resolution_fa, resolution_fa),\n",
    "            v_range=[-.5, +.5],\n",
    "            u_range=[-.5, +.5]\n",
    "        )\n",
    "\n",
    "        gauss_planeU.scale(10, about_point=ORIGIN)\n",
    "        gauss_planeU.set_style(fill_opacity=1,stroke_color=GREEN)\n",
    "        gauss_planeU.set_fill_by_checkerboard(BLUE, WHITE, opacity=0.25)\n",
    "\n",
    "        def param_gauss4(u, v):\n",
    "            x = u\n",
    "            y = v\n",
    "            z = x**2-y**2\n",
    "            return np.array([x, y, z])\n",
    "\n",
    "        gauss_plane4 = Surface(\n",
    "            param_gauss4,\n",
    "            resolution=(resolution_fa, resolution_fa),\n",
    "            v_range=[-.5, +.5],\n",
    "            u_range=[-.5, +.5]\n",
    "        )\n",
    "\n",
    "        gauss_plane4.scale(10, about_point=ORIGIN)\n",
    "        gauss_plane4.set_style(fill_opacity=1,stroke_color=WHITE)\n",
    "        gauss_plane4.set_fill_by_checkerboard(BLUE, WHITE, opacity=0.25)\n",
    "\n",
    "        Plane = Polygon([0,6,3],[0,6,-3],[0,0,-3],[0,0,3],color=RED)\n",
    "        axes = ThreeDAxes()\n",
    "\n",
    "        self.add(axes,curve2)\n",
    "        self.set_camera_orientation(phi=60 * DEGREES, theta=-45 * DEGREES)\n",
    "\n",
    "        self.play(\n",
    "            #Rotating(gauss_plane4,radians=PI/2,run_time=2,rate_func= linear),\n",
    "            #ReplacementTransform(gauss_plane,gauss_planeD,rate_functions=linear,run_time=2),\n",
    "            ReplacementTransform(curve2,curve1,rate_functions=wiggle,run_time=2)\n",
    "            )\n",
    "        self.play(\n",
    "            #Rotating(gauss_plane4,radians=PI/2,run_time=2,rate_func= linear),\n",
    "            #ReplacementTransform(gauss_planeD,gauss_planeU,rate_functions=linear,run_time=2),\n",
    "            ReplacementTransform(curve1,curve3,rate_function=linear,run_time=2)\n",
    "            )\n"
   ]
  },
  {
   "cell_type": "code",
   "execution_count": 101,
   "metadata": {},
   "outputs": [
    {
     "name": "stderr",
     "output_type": "stream",
     "text": [
      "                                                                                                          \r"
     ]
    },
    {
     "data": {
      "text/html": [
       "<video src=\"media\\jupyter\\ThreeDSurfacePlotSpin@2023-02-19@20-52-09.mp4\" controls autoplay loop style=\"max-width: 60%;\"  >\n",
       "      Your browser does not support the <code>video</code> element.\n",
       "    </video>"
      ],
      "text/plain": [
       "<IPython.core.display.Video object>"
      ]
     },
     "metadata": {},
     "output_type": "display_data"
    }
   ],
   "source": [
    "%%manim -qh --disable_caching -v WARNING ThreeDSurfacePlotSpin\n",
    "\n",
    "class ThreeDSurfacePlotSpin(ThreeDScene):\n",
    "    def construct(self):\n",
    "        resolution_fa = 10\n",
    "\n",
    "        curve2 = ParametricFunction(\n",
    "            lambda u: np.array([\n",
    "                0,\n",
    "                u,\n",
    "                (-u**2) * 0.1\n",
    "            ]), color=WHITE, t_range = np.array([-5,5, 5])\n",
    "        ).set_shade_in_3d(False)\n",
    "\n",
    "        curve1 = ParametricFunction(\n",
    "            lambda u: np.array([\n",
    "                0,\n",
    "                u,\n",
    "                (u**2) * 0.1\n",
    "            ]), color=WHITE, t_range = np.array([-5,5, 1])\n",
    "        ).set_shade_in_3d(False)\n",
    "\n",
    "        curve3 = ParametricFunction(\n",
    "            lambda u: np.array([\n",
    "                0,\n",
    "                u,\n",
    "                (-u**2) * 0.1\n",
    "            ]), color=WHITE, t_range = np.array([-5,5, 1])\n",
    "        ).set_shade_in_3d(False)\n",
    "\n",
    "        def param_gauss(u, v):\n",
    "            x = u\n",
    "            y = v\n",
    "            z = x**2-y**2\n",
    "            return np.array([x, y, z])\n",
    "\n",
    "        gauss_plane = Surface(\n",
    "            param_gauss,\n",
    "            resolution=(resolution_fa, resolution_fa),\n",
    "            v_range=[-.5, +.5],\n",
    "            u_range=[-.5, +.5]\n",
    "        )\n",
    "\n",
    "        gauss_plane.scale(10, about_point=ORIGIN)\n",
    "        gauss_plane.set_style(fill_opacity=1,stroke_color=GREEN)\n",
    "        gauss_plane.set_fill_by_checkerboard(BLUE, WHITE, opacity=0.25)\n",
    "\n",
    "        def param_gaussD(u, v):\n",
    "            x = u\n",
    "            y = v\n",
    "            z = -x**2+y**2\n",
    "            return np.array([x, y, z])\n",
    "\n",
    "        gauss_planeD = Surface(\n",
    "            param_gaussD,\n",
    "            resolution=(resolution_fa, resolution_fa),\n",
    "            v_range=[-.5, +.5],\n",
    "            u_range=[-.5, +.5]\n",
    "        )\n",
    "\n",
    "\n",
    "        gauss_planeD.scale(10, about_point=ORIGIN)\n",
    "        gauss_planeD.set_style(fill_opacity=1,stroke_color=GREEN)\n",
    "        gauss_planeD.set_fill_by_checkerboard(BLUE, WHITE, opacity=0.25)\n",
    "\n",
    "        def param_gaussU(u, v):\n",
    "            x = u\n",
    "            y = v\n",
    "            z = x**2-y**2\n",
    "            return np.array([x, y, z])\n",
    "\n",
    "        gauss_planeU = Surface(\n",
    "            param_gaussU,\n",
    "            resolution=(resolution_fa, resolution_fa),\n",
    "            v_range=[-.5, +.5],\n",
    "            u_range=[-.5, +.5]\n",
    "        )\n",
    "\n",
    "        gauss_planeU.scale(10, about_point=ORIGIN)\n",
    "        gauss_planeU.set_style(fill_opacity=1,stroke_color=GREEN)\n",
    "        gauss_planeU.set_fill_by_checkerboard(BLUE, WHITE, opacity=0.25)\n",
    "\n",
    "        def param_gauss4(u, v):\n",
    "            x = u\n",
    "            y = v\n",
    "            z = x**2-y**2\n",
    "            return np.array([x, y, z])\n",
    "\n",
    "        gauss_plane4 = Surface(\n",
    "            param_gauss4,\n",
    "            resolution=(resolution_fa, resolution_fa),\n",
    "            v_range=[-.5, +.5],\n",
    "            u_range=[-.5, +.5]\n",
    "        )\n",
    "\n",
    "        gauss_plane4.scale(10, about_point=ORIGIN)\n",
    "        gauss_plane4.set_style(fill_opacity=1,stroke_color=WHITE)\n",
    "        gauss_plane4.set_fill_by_checkerboard(BLUE, WHITE, opacity=0.25)\n",
    "\n",
    "        Plane = Polygon([0,6,3],[0,6,-3],[0,0,-3],[0,0,3],color=RED)\n",
    "        axes = ThreeDAxes()\n",
    "\n",
    "        self.add(axes,gauss_plane4,curve2)\n",
    "        self.set_camera_orientation(phi=60 * DEGREES, theta=-45 * DEGREES)\n",
    "\n",
    "        self.play(\n",
    "            Rotating(gauss_plane4,radians=PI/2,run_time=2,rate_func= linear),\n",
    "            #ReplacementTransform(gauss_plane,gauss_planeD,rate_functions=linear,run_time=2),\n",
    "            ReplacementTransform(curve2,curve1,rate_function=linear,run_time=2)\n",
    "            )\n",
    "        self.play(\n",
    "            Rotating(gauss_plane4,radians=PI/2,run_time=2,rate_func= linear),\n",
    "            #ReplacementTransform(gauss_planeD,gauss_planeU,rate_functions=linear,run_time=2),\n",
    "            ReplacementTransform(curve1,curve3,rate_function=linear,run_time=2)\n",
    "            )"
   ]
  },
  {
   "cell_type": "code",
   "execution_count": 102,
   "metadata": {},
   "outputs": [
    {
     "name": "stderr",
     "output_type": "stream",
     "text": [
      "                                                                                               \r"
     ]
    },
    {
     "data": {
      "text/html": [
       "<video src=\"media\\jupyter\\BOM@2023-02-19@20-52-13.mp4\" controls autoplay loop style=\"max-width: 60%;\"  >\n",
       "      Your browser does not support the <code>video</code> element.\n",
       "    </video>"
      ],
      "text/plain": [
       "<IPython.core.display.Video object>"
      ]
     },
     "metadata": {},
     "output_type": "display_data"
    }
   ],
   "source": [
    "%%manim -qh --disable_caching -v WARNING BOM\n",
    "class BOM(Scene):\n",
    "    def construct(self):\n",
    "\n",
    "        Pjt = Tex(\"Initial BOM\")\n",
    "\n",
    "        Pjt.generate_target()\n",
    "        Pjt.target.shift(UP).scale(2)\n",
    "\n",
    "        Con = Tex(\"\\emph{What is needed to make it?}\")\n",
    "        Proto = Tex(\"\\emph{How do people interact with it?}\")\n",
    "\n",
    "\n",
    "        gr = VGroup( \n",
    "            Con\n",
    "        ).arrange(RIGHT)\n",
    "\n",
    "        \n",
    "        #framebox1 = SurroundingRectangle(Con,buff = .2)\n",
    "\n",
    "        self.play(Write(Pjt))\n",
    "        self.play(MoveToTarget(Pjt))\n",
    "\n",
    "        self.play(\n",
    "            Write(gr)\n",
    "        )\n",
    "        #self.play(Create(framebox1))\n",
    "        self.wait()\n",
    "        self.play(FadeOut(Pjt),FadeOut(gr))"
   ]
  },
  {
   "cell_type": "code",
   "execution_count": 57,
   "metadata": {},
   "outputs": [
    {
     "name": "stderr",
     "output_type": "stream",
     "text": [
      "                                                                                                                \r"
     ]
    },
    {
     "data": {
      "text/html": [
       "<video src=\"media\\jupyter\\MT2@2023-02-25@10-47-36.mp4\" controls autoplay loop style=\"max-width: 60%;\"  >\n",
       "      Your browser does not support the <code>video</code> element.\n",
       "    </video>"
      ],
      "text/plain": [
       "<IPython.core.display.Video object>"
      ]
     },
     "metadata": {},
     "output_type": "display_data"
    }
   ],
   "source": [
    "%%manim -qh --disable_caching -v WARNING MT2\n",
    "config.assets_dir = \"./assets/\"\n",
    "\n",
    "class MT2(Scene):\n",
    "    def get_svg_and_color(self, t, c, include_background=True):\n",
    "        svg = SVGMobject(t)\n",
    "        svg.set_color(c)\n",
    "        svg.set(width=1)\n",
    "        if include_background:\n",
    "            bk = Circle(fill_opacity=1,color=WHITE)\n",
    "            bk.match_width(svg).scale(0.92)\n",
    "            bk.fade(1)\n",
    "            svg.add_to_back(bk)\n",
    "        return svg\n",
    "\n",
    "    def construct(self):\n",
    "        names_styles = [\n",
    "            #(\"facebook\",\"#3C5A9A\",True),\n",
    "            #(\"twitter\",\"#4D9FEA\",True),\n",
    "            (\"reddit\",\"#EB5528\",True),\n",
    "            (\"github\",WHITE,False),\n",
    "            (\"youtube\",\"#FE0000\",True),\n",
    "        ]\n",
    "\n",
    "        logos = VGroup(*[\n",
    "            self.get_svg_and_color(t,c,ib)\n",
    "            for t,c,ib in names_styles\n",
    "        ])\n",
    "        logos.arrange(RIGHT)\n",
    "        logos.set(width=config.frame_width-1)\n",
    "\n",
    "\n",
    "        r = Text(\"Reddit.com/u/Factorem_io\")\n",
    "        g = Text(\"Github.com/Factorem-io\")\n",
    "        y = Text(\"Youtube.com (You are here...)\")\n",
    "        \n",
    "        r.generate_target()\n",
    "        r.target.shift(2.35*UP + 1.75*RIGHT).scale(.75)\n",
    "        g.generate_target()\n",
    "        g.target.shift(.1*DOWN  + 1.5*RIGHT).scale(.75)\n",
    "        y.generate_target()\n",
    "        y.target.shift(2.35*DOWN  + 2*RIGHT).scale(.75)\n",
    "\n",
    "        self.play(Write(logos),run_time=1)\n",
    "        self.wait()\n",
    "        self.play(\n",
    "            logos.animate\n",
    "                .arrange(DOWN)\n",
    "                .set(height=config.frame_height-1)\n",
    "                .to_edge(LEFT),\n",
    "            run_time=1\n",
    "        )\n",
    "        self.wait()\n",
    "        names = VGroup()\n",
    "        for l,name in zip(logos,names_styles):\n",
    "            l.generate_target()\n",
    "            l.target.shift(RIGHT*2.5)\n",
    "            l.target[0].set_fill(opacity=1)\n",
    "            n = Tex(name[0],color=name[1],stroke_width=2)\n",
    "            n.next_to(l.target[0],RIGHT)\n",
    "            names.add(n)\n",
    "\n",
    "        self.play(Write(r),run_time=.75)\n",
    "        \n",
    "        self.play(Write(y),MoveToTarget(r),run_time=.75)\n",
    "        self.play(Write(g),MoveToTarget(y),run_time=.75)\n",
    "        self.play(\n",
    "            *[\n",
    "                MoveToTarget(l)\n",
    "                for l in logos\n",
    "            ],\n",
    "            MoveToTarget(g),\n",
    "           # *[\n",
    "           #     Write(n)\n",
    "          #      for n in names\n",
    "          #  ],\n",
    "            run_time=.75\n",
    "        )\n",
    "        self.wait(2)\n",
    "\n",
    "\n",
    "\n",
    "        "
   ]
  }
 ],
 "metadata": {
  "kernelspec": {
   "display_name": "Python 3",
   "language": "python",
   "name": "python3"
  },
  "language_info": {
   "codemirror_mode": {
    "name": "ipython",
    "version": 3
   },
   "file_extension": ".py",
   "mimetype": "text/x-python",
   "name": "python",
   "nbconvert_exporter": "python",
   "pygments_lexer": "ipython3",
   "version": "3.10.8"
  },
  "orig_nbformat": 4,
  "vscode": {
   "interpreter": {
    "hash": "882d711b144bbc85b23a2715f8ed95444ed488b1fef49c9fcaa407165c995cbf"
   }
  }
 },
 "nbformat": 4,
 "nbformat_minor": 2
}
