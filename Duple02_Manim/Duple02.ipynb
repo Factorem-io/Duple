{
 "cells": [
  {
   "cell_type": "code",
   "execution_count": 1,
   "metadata": {},
   "outputs": [
    {
     "data": {
      "text/html": [
       "<pre style=\"white-space:pre;overflow-x:auto;line-height:normal;font-family:Menlo,'DejaVu Sans Mono',consolas,'Courier New',monospace\">Manim Community <span style=\"color: #008000; text-decoration-color: #008000\">v0.17.2</span>\n",
       "\n",
       "</pre>\n"
      ],
      "text/plain": [
       "Manim Community \u001b[32mv0.\u001b[0m\u001b[32m17.2\u001b[0m\n",
       "\n"
      ]
     },
     "metadata": {},
     "output_type": "display_data"
    }
   ],
   "source": [
    "from manim import *\n",
    "from manim_physics import *\n",
    "import numpy as np"
   ]
  },
  {
   "cell_type": "code",
   "execution_count": 4,
   "metadata": {},
   "outputs": [
    {
     "name": "stderr",
     "output_type": "stream",
     "text": [
      "                                                                                                                                                                \r"
     ]
    },
    {
     "data": {
      "text/html": [
       "<video src=\"media\\jupyter\\Prototype@2023-03-06@22-22-35.mp4\" controls autoplay loop style=\"max-width: 60%;\"  >\n",
       "      Your browser does not support the <code>video</code> element.\n",
       "    </video>"
      ],
      "text/plain": [
       "<IPython.core.display.Video object>"
      ]
     },
     "metadata": {},
     "output_type": "display_data"
    }
   ],
   "source": [
    "%%manim --disable_caching -v WARNING Prototype\n",
    "class Prototype(Scene):\n",
    "    def construct(self):\n",
    "\n",
    "        Pjt = Tex(\"Duple\")\n",
    "\n",
    "        Pjt.generate_target()\n",
    "        Pjt.target.shift(3*UP).scale(1.5)\n",
    "\n",
    "        Con = Tex(\"Concept\")\n",
    "        Proto = Tex(\"Prototype\")\n",
    "        Prod = Tex(\"Production\")\n",
    "        arrow = Arrow(start= LEFT, end=RIGHT)\n",
    "        arrow2 = Arrow(start= LEFT, end=RIGHT)\n",
    "        blist = BulletedList(\"Math\", \"Initial BOM\", \"3D render\", font_size=50)\n",
    "        blist2 = BulletedList(\"Block Diagram\", \"Breadboard\", \"Code\", \"Mechanical Design\", \"Prototype\", font_size=50)\n",
    "        blist3 = BulletedList(\"Task 1\", \"Task 2\", \"Task 3\", font_size=50)\n",
    "\n",
    "        gr = VGroup( \n",
    "            Con,\n",
    "            arrow,\n",
    "            Proto,\n",
    "            arrow2,\n",
    "            Prod,\n",
    "        ).arrange(RIGHT)\n",
    "\n",
    "        gr.generate_target()\n",
    "        gr.target.shift(2*UP).scale(1.125)\n",
    "        \n",
    "        framebox1 = SurroundingRectangle(Con,buff = .2)\n",
    "        framebox2 = SurroundingRectangle(Proto,buff = .2)\n",
    "        framebox3 = SurroundingRectangle(Prod,buff = .2)\n",
    "\n",
    "        self.play(Write(Pjt))\n",
    "        self.play(MoveToTarget(Pjt))\n",
    "\n",
    "        self.play(\n",
    "            Write(gr)\n",
    "        )\n",
    "        self.wait(.5)\n",
    "        self.play(Create(framebox1))\n",
    "        self.wait(.5)\n",
    "        self.play(ReplacementTransform(framebox1,framebox2))\n",
    "        self.wait(.5)\n",
    "        #self.play(ReplacementTransform(framebox2,framebox3))\n",
    "        self.play(FadeOut(framebox2))\n",
    "        self.play(MoveToTarget(gr))\n",
    "        self.add(blist.shift(4.5*LEFT))\n",
    "        self.play(FadeIn(blist))\n",
    "\n",
    "        self.wait()\n",
    "        self.add(blist2.shift(.65*DOWN+.5*RIGHT))\n",
    "        self.play(Create(blist2))\n",
    "\n",
    "        self.wait()\n",
    "        self.add(blist3.shift(4*RIGHT))\n",
    "        self.play(FadeIn(blist3))\n",
    "        self.wait()\n",
    "        self.play(FadeOut(blist,blist2,blist3,Pjt,gr))\n",
    "        self.wait()"
   ]
  },
  {
   "cell_type": "code",
   "execution_count": 260,
   "metadata": {},
   "outputs": [
    {
     "name": "stderr",
     "output_type": "stream",
     "text": [
      "                                                                                                          \r"
     ]
    },
    {
     "data": {
      "text/html": [
       "<video src=\"media\\jupyter\\Block@2023-03-06@22-16-41.mp4\" controls autoplay loop style=\"max-width: 60%;\"  >\n",
       "      Your browser does not support the <code>video</code> element.\n",
       "    </video>"
      ],
      "text/plain": [
       "<IPython.core.display.Video object>"
      ]
     },
     "metadata": {},
     "output_type": "display_data"
    }
   ],
   "source": [
    "%%manim -qh --disable_caching -v WARNING Block\n",
    "class Block(Scene):\n",
    "    def construct(self):\n",
    "\n",
    "        question = Text(\n",
    "            \"Has the ball \\n\"\n",
    "            \"been picked up?\",\n",
    "            color=WHITE,\n",
    "        ).scale(0.75)\n",
    "\n",
    "        box = SurroundingRectangle(question, corner_radius=0.2, color=WHITE, buff=MED_LARGE_BUFF)\n",
    "\n",
    "        action = Text(\n",
    "            \"Motor On\"\n",
    "        ).scale(.75)\n",
    "\n",
    "        box2 = SurroundingRectangle(action, corner_radius=0.2, color=WHITE, buff=MED_LARGE_BUFF)\n",
    "\n",
    "        arrow1 = Arrow([0, .45, 0], [0, -1, 0],buff=0)\n",
    "\n",
    "        line1 = Line([2, .45 , 0], [2,-.5, 0])\n",
    "        line2 = Line([2,-.5, 0], [4,-.5, 0])\n",
    "        line3 = Line([4,-.5, 0], [4,3.5, 0])\n",
    "        line4 = Line([4,3.5, 0], [1,3.5, 0])\n",
    "\n",
    "        arrow2 = Arrow([1,3.5, 0], [1,2.5, 0],buff=0)\n",
    "\n",
    "        yes = Text(\"Yes\").next_to(arrow1,LEFT)\n",
    "        no = Text(\"No\").next_to(line3)\n",
    "\n",
    "        mobjects = VGroup(VGroup(box, question), VGroup(action, box2)).arrange(6*DOWN)\n",
    "        nogroup = VGroup(line1,line2,line3,line4,arrow2,no)\n",
    "        block = VGroup(mobjects,VGroup(arrow1,yes),nogroup)\n",
    "        block.generate_target()\n",
    "        block.target.shift(3.5*RIGHT + 1.5*UP).scale(0.5)\n",
    "\n",
    "\n",
    "        ldr = Text(\"LDR\",font_size=25).next_to(box,LEFT)\n",
    "        lmt = Text(\"Limit \\n\" \"Switch\", font_size=15).next_to(box,LEFT,buff=.3)\n",
    "        \n",
    "        circle = Circle(color=RED).surround(ldr)\n",
    "        ldrg = VGroup(ldr,circle)\n",
    "        ldrg.generate_target()\n",
    "        ldrg.target.move_to([-5, 3, 0])\n",
    "\n",
    "        step = Text(\"Stepper \\n\" \"Motor\",font_size=18).next_to(box2,LEFT)\n",
    "        circle2 = Circle(color=ORANGE).surround(step)\n",
    "        stepg = VGroup(step,circle2)\n",
    "        stepg.generate_target()\n",
    "        stepg.target.move_to([-5,2, 0])\n",
    "\n",
    "        stepdr = Text(\"Motor \\n\" \"Driver\",font_size=20).next_to(box2,RIGHT)\n",
    "        circle3 = Circle(color=YELLOW).surround(stepdr)\n",
    "        stepdrg = VGroup(stepdr,circle3)\n",
    "        stepdrg.generate_target()\n",
    "        stepdrg.target.move_to([-5,.85, 0])\n",
    "\n",
    "        mc = Text(\"Micro \\n\" \"Controller\",font_size=15).next_to(arrow1,RIGHT)\n",
    "        circle4 = Circle(color=GREEN).surround(mc)\n",
    "        mcg = VGroup(mc,circle4)\n",
    "        mcg.generate_target()\n",
    "        mcg.target.move_to([-5, -.3, 0])\n",
    "\n",
    "        vcc = Text(\"5V\",font_size=35).next_to(box,UP,buff=.5)\n",
    "        circle5 = Circle(color=BLUE).surround(vcc)\n",
    "        vccg = VGroup(vcc,circle5)\n",
    "        vccg.generate_target()\n",
    "        vccg.target.move_to([-5, -1.3, 0])\n",
    "\n",
    "        vmot = Text(\"12V\",font_size=30).next_to(box2,DOWN,buff=.5)\n",
    "        circle6 = Circle(color=PURPLE).surround(vmot)\n",
    "        vmotg = VGroup(vmot,circle6)\n",
    "        vmotg.generate_target()\n",
    "        vmotg.target.move_to([-5, -2.2, 0])\n",
    "\n",
    "        \n",
    "        #self.add(mobjects,arrow1,line1,line2,line3,line4,arrow2)\n",
    "\n",
    "        self.play(FadeIn(box,question))\n",
    "        self.wait()\n",
    "        self.play(FadeIn(arrow1,yes))\n",
    "        self.play(FadeIn(box2,action))\n",
    "        self.wait()\n",
    "        self.play(FadeIn(line1,nogroup))\n",
    "        self.wait()\n",
    "        self.play(FadeIn(circle))\n",
    "        self.play(FadeIn(lmt))\n",
    "        self.wait()\n",
    "        \n",
    "        self.play(FadeOut(lmt))\n",
    "        self.play(Flash(circle,flash_radius=.5))\n",
    "        self.play(FadeIn(ldr))\n",
    "        self.play(Flash(circle,flash_radius=.5))\n",
    "        self.play(FadeIn(step,circle2))\n",
    "        self.play(FadeIn(stepdr,circle3))\n",
    "        self.play(FadeIn(mc,circle4))\n",
    "        self.play(FadeIn(vcc,circle5))\n",
    "        self.play(FadeIn(vmot,circle6))        \n",
    "        #self.play(FadeOut(box,question,arrow1,yes,box2,action,line1,nogroup))\n",
    "        self.play(\n",
    "            MoveToTarget(ldrg),\n",
    "            MoveToTarget(stepg),\n",
    "            MoveToTarget(stepdrg),\n",
    "            MoveToTarget(mcg),\n",
    "            MoveToTarget(vccg),\n",
    "            MoveToTarget(vmotg)\n",
    "            )\n",
    "        self.play(MoveToTarget(block))\n",
    "        self.wait(3)\n",
    "\n",
    "        self.play(FadeOut(vccg),FadeOut(vmotg))\n",
    "        self.play(FadeOut(mcg))\n",
    "        self.play(FadeOut(stepdrg),FadeOut(stepg))\n",
    "        self.play(FadeOut(ldrg))\n",
    "        self.wait(3)\n",
    "        self.play(Indicate(block))\n",
    "        self.wait(2)\n",
    "\n",
    "\n"
   ]
  },
  {
   "cell_type": "code",
   "execution_count": 5,
   "metadata": {},
   "outputs": [
    {
     "name": "stderr",
     "output_type": "stream",
     "text": [
      "                                                                                                                           \r"
     ]
    },
    {
     "data": {
      "text/html": [
       "<video src=\"media\\jupyter\\Code@2023-03-06@22-55-55.mp4\" controls autoplay loop style=\"max-width: 60%;\"  >\n",
       "      Your browser does not support the <code>video</code> element.\n",
       "    </video>"
      ],
      "text/plain": [
       "<IPython.core.display.Video object>"
      ]
     },
     "metadata": {},
     "output_type": "display_data"
    }
   ],
   "source": [
    "%%manim -qh --disable_caching -v WARNING Code\n",
    "class Code(Scene):\n",
    "    def construct(self):\n",
    "\n",
    "        Pjt = Tex(\"Code\")\n",
    "\n",
    "        Pjt.generate_target()\n",
    "        Pjt.target.shift(UP).scale(2)\n",
    "\n",
    "        Con = Tex(\"\\emph{The 1's and 0's that make it do stuff}\")\n",
    "        \n",
    "\n",
    "        self.play(Write(Pjt))\n",
    "        self.play(MoveToTarget(Pjt))\n",
    "\n",
    "        self.play(\n",
    "            Write(Con)\n",
    "        )\n",
    "        #self.play(Create(framebox1))\n",
    "        self.wait()\n",
    "        self.play(FadeOut(Pjt),FadeOut(Con))\n"
   ]
  },
  {
   "cell_type": "code",
   "execution_count": 5,
   "metadata": {},
   "outputs": [
    {
     "name": "stderr",
     "output_type": "stream",
     "text": [
      "                                                                                                       \r"
     ]
    },
    {
     "data": {
      "text/html": [
       "<video src=\"media\\jupyter\\CodeFromString@2023-03-08@21-54-27.mp4\" controls autoplay loop style=\"max-width: 60%;\"  >\n",
       "      Your browser does not support the <code>video</code> element.\n",
       "    </video>"
      ],
      "text/plain": [
       "<IPython.core.display.Video object>"
      ]
     },
     "metadata": {},
     "output_type": "display_data"
    }
   ],
   "source": [
    "%%manim -qh --disable_caching -v WARNING CodeFromString\n",
    "class CodeFromString(Scene):\n",
    "    def construct(self):\n",
    "        code = '''\n",
    "There's a light sensor\n",
    "and\n",
    "A stepper motor driver.\n",
    "'''\n",
    "        code2 = '''\n",
    "Our light sensor outputs a value\n",
    "the threshold value for darkness is 700\n",
    "Our Stepper spins at a max speed of 60RPM\n",
    "A stopped stepper is 0RPM\n",
    "We can periodically check the light sensor\n",
    "we'll do this every 50 ms\n",
    "The starting speed of the stepper should be slow\n",
    "'''\n",
    "        code3 = '''\n",
    "Look at the light sensor,\n",
    "if the light sensor <700{ \n",
    "        spin the motor up to full speed\n",
    "        }\n",
    "if the light sensor >700{\n",
    "        Stop the motor\n",
    "        }\n",
    "'''\n",
    "        code4 = '''\n",
    "        #include <AccelStepper.h>\n",
    "        light = analogRead(3);\n",
    "        AccelStepper stepper(1, PB2, PB4);\n",
    "'''\n",
    "        code5 = '''\n",
    "int light = 1000000;\n",
    "int lightthresh = 700;\n",
    "float maxSpeed = 2500;\n",
    "float Stop = 0;\n",
    "unsigned long time;\n",
    "unsigned long previousAccel = 0;\n",
    "int interval = 50;\n",
    "'''\n",
    "        code6 = '''\n",
    "if (light < lightthresh){\n",
    "        stepper.setSpeed(maxSpeed);\n",
    "        stepper.runSpeed();\n",
    "if (light > lightthresh){\n",
    "        stepper.setSpeed(Stop);\n",
    "        stepper.runSpeed();\n",
    "'''\n",
    "        code7 = '''\n",
    "#include <AccelStepper.h>\n",
    "int light = 1000000;\n",
    "int lightthresh = 700;\n",
    "AccelStepper stepper(1, PB2, PB4);\n",
    "float maxSpeed = 2500;  \n",
    "float Stop = 0;\n",
    "unsigned long time;\n",
    "unsigned long previousAccel = 0;\n",
    "int interval = 50;  // # of milliseconds between speed increases\n",
    "\n",
    "void setup() {\n",
    "  stepper.setSpeed(20);\n",
    "  stepper.setMaxSpeed(maxSpeed); \n",
    "}\n",
    "\n",
    "void loop() {\n",
    "light = analogRead(3);\n",
    "if (light < lightthresh){\n",
    "  while (stepper.speed() < maxSpeed) {\n",
    "            time = millis();\n",
    "            if (time > previousAccel + interval) {\n",
    "              previousAccel = time;\n",
    "              stepper.setSpeed(stepper.speed() + 50);\n",
    "            }\n",
    "            stepper.runSpeed();\n",
    "          }\n",
    "          stepper.setSpeed(maxSpeed);\n",
    "          stepper.runSpeed();\n",
    "        }\n",
    "if (light > lightthresh){\n",
    "          while (stepper.speed() > Stop) {\n",
    "            time = millis();\n",
    "            if (time > previousAccel + interval) {\n",
    "              previousAccel = time;\n",
    "              stepper.setSpeed(stepper.speed() - 50);\n",
    "            }\n",
    "            stepper.runSpeed();\n",
    "          }\n",
    "          stepper.setSpeed(Stop);\n",
    "          stepper.runSpeed();\n",
    "        }\n",
    "}\n",
    "'''\n",
    "        rendered_code = Code(code=code, tab_width=2, background=\"rectangle\",\n",
    "                            language=\"C#\", font=\"Monospace\")\n",
    "        rendered_code2 = Code(code=code2, tab_width=2, background=\"rectangle\",\n",
    "                            language=\"C#\", font=\"Monospace\")\n",
    "        rendered_code3 = Code(code=code3, tab_width=2, background=\"rectangle\",\n",
    "                            language=\"C#\", font=\"Monospace\").shift(1.9*DOWN)\n",
    "        rendered_code4 = Code(code=code4, tab_width=2, background=\"rectangle\",\n",
    "                            language=\"C#\", font=\"Monospace\").shift(3*UP)\n",
    "        rendered_code5 = Code(code=code5, tab_width=2, background=\"rectangle\",\n",
    "                            language=\"C#\", font=\"Monospace\").shift(.88*UP)\n",
    "        rendered_code6 = Code(code=code6, tab_width=2, background=\"rectangle\",\n",
    "                            language=\"C#\", font=\"Monospace\").shift(1.75*DOWN)\n",
    "        rendered_code7 = Code(code=code7, tab_width=1, background=\"rectangle\",\n",
    "                            language=\"C#\", font=\"Monospace\",font_size=13)\n",
    "        \n",
    "\n",
    "        self.play(Create(rendered_code),run_time=5)\n",
    "        self.wait(2)\n",
    "        self.play(rendered_code.animate.shift(3*UP),run_time=4)\n",
    "        self.play(Create(rendered_code2),run_time=5)\n",
    "        self.play(rendered_code2.animate.shift(.9*UP))\n",
    "        self.play(Create(rendered_code3),run_time=4)\n",
    "        self.wait(3)\n",
    "        self.play(Transform(rendered_code,rendered_code4))\n",
    "        self.play(Transform(rendered_code2,rendered_code5))\n",
    "        self.play(Transform(rendered_code3,rendered_code6))\n",
    "        self.wait(3)\n",
    "        self.play(FadeOut(rendered_code),FadeOut(rendered_code2),FadeOut(rendered_code3))\n",
    "        self.play(Create(rendered_code7))\n",
    "        self.wait(6)\n",
    "\n",
    "\n"
   ]
  },
  {
   "cell_type": "code",
   "execution_count": 2,
   "metadata": {},
   "outputs": [
    {
     "name": "stderr",
     "output_type": "stream",
     "text": [
      "                                                                                                        \r"
     ]
    },
    {
     "data": {
      "text/html": [
       "<video src=\"media\\jupyter\\CAD@2023-03-09@22-51-24.mp4\" controls autoplay loop style=\"max-width: 60%;\"  >\n",
       "      Your browser does not support the <code>video</code> element.\n",
       "    </video>"
      ],
      "text/plain": [
       "<IPython.core.display.Video object>"
      ]
     },
     "metadata": {},
     "output_type": "display_data"
    }
   ],
   "source": [
    "%%manim -qh --disable_caching -v WARNING CAD\n",
    "class CAD(Scene):\n",
    "    def construct(self):\n",
    "\n",
    "        Pjt = Tex(\"Detailed Engineering\")\n",
    "\n",
    "        Pjt.generate_target()\n",
    "        Pjt.target.shift(UP).scale(2)\n",
    "\n",
    "        Con = Tex(\"\\emph{CAD Model}\")\n",
    "        Proto = Tex(\"\\emph{What are we making?}\")\n",
    "\n",
    "\n",
    "        gr = VGroup( \n",
    "            Con,\n",
    "            Proto,\n",
    "        ).arrange(DOWN)\n",
    "\n",
    "        \n",
    "        #framebox1 = SurroundingRectangle(Con,buff = .2)\n",
    "\n",
    "        self.play(Write(Pjt))\n",
    "        self.play(MoveToTarget(Pjt))\n",
    "\n",
    "        self.play(\n",
    "            Write(gr)\n",
    "        )\n",
    "        #self.play(Create(framebox1))\n",
    "        self.wait()\n",
    "        self.play(FadeOut(Pjt),FadeOut(gr))"
   ]
  },
  {
   "cell_type": "code",
   "execution_count": null,
   "metadata": {},
   "outputs": [],
   "source": []
  },
  {
   "cell_type": "markdown",
   "metadata": {},
   "source": []
  }
 ],
 "metadata": {
  "kernelspec": {
   "display_name": "Python 3",
   "language": "python",
   "name": "python3"
  },
  "language_info": {
   "codemirror_mode": {
    "name": "ipython",
    "version": 3
   },
   "file_extension": ".py",
   "mimetype": "text/x-python",
   "name": "python",
   "nbconvert_exporter": "python",
   "pygments_lexer": "ipython3",
   "version": "3.10.8"
  },
  "orig_nbformat": 4,
  "vscode": {
   "interpreter": {
    "hash": "882d711b144bbc85b23a2715f8ed95444ed488b1fef49c9fcaa407165c995cbf"
   }
  }
 },
 "nbformat": 4,
 "nbformat_minor": 2
}
